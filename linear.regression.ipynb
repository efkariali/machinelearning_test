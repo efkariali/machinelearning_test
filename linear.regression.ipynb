{
 "cells": [
  {
   "cell_type": "code",
   "execution_count": 102,
   "id": "f12564c1",
   "metadata": {},
   "outputs": [],
   "source": [
    "import pandas as pd\n",
    "import numpy as np\n",
    "import matplotlib.pyplot as plt\n",
    "from sklearn.linear_model import LinearRegression\n",
    "from sklearn.model_selection import train_test_split\n",
    "from sklearn.linear_model import LogisticRegression\n",
    "from sklearn.metrics import r2_score\n",
    "\n",
    "#pandası import ettim,  pd olarak tanımladım.  hesaplamalar için numpy import ederek np olarak tanımladım. \n",
    "# görselleştirme için matplotlib import ettim. \n",
    "#linear ve logistic model için import yaptım \n",
    "# scikitlearn'dan model import ettim. \n",
    "# train, test ve split import ettim .\n",
    "# logistic Regression'u ekledim. \n",
    "# r2 skoru için eklemeleri gerçekleştirdim. "
   ]
  },
  {
   "cell_type": "code",
   "execution_count": 103,
   "id": "9fc9a4e8",
   "metadata": {},
   "outputs": [],
   "source": [
    "\n",
    "data = {\n",
    "    \"revenue\" : [6000, 9000, 12000, 15000, 18000, 4500, 7500, 12000, 9000, 16500, 10500, 18000, 6000, 13500, 12000, 19500, 7500, 15000, 9000, 16500, 4500, 12000, 10500, 18000, 6000, 13500, 7500, 15000, 9000, 16500],\n",
    "    \"investment\" : [2000, 3000, 4000, 5000, 6000, 1500, 2500, 4000, 3000, 5500, 3500, 6000, 2000, 4500, 4000, 6500, 2500, 5000, 3000, 5500, 1500, 4000, 3500, 6000, 2000, 4500, 2500, 5000, 3000, 5500]\n",
    "\n",
    "}\n",
    "\n",
    "#verileri burada ekledim. \n"
   ]
  },
  {
   "cell_type": "code",
   "execution_count": 98,
   "id": "56737917",
   "metadata": {},
   "outputs": [],
   "source": [
    "df = pd.DataFrame(data)\n",
    "\n",
    "#verilerin tanımını gerçekleştirdim. "
   ]
  },
  {
   "cell_type": "code",
   "execution_count": 99,
   "id": "8876fa28",
   "metadata": {},
   "outputs": [
    {
     "name": "stdout",
     "output_type": "stream",
     "text": [
      "   revenue  investment\n",
      "0     6000        2000\n",
      "1     9000        3000\n",
      "2    12000        4000\n",
      "3    15000        5000\n",
      "4    18000        6000\n",
      "5     4500        1500\n",
      "6     7500        2500\n",
      "7    12000        4000\n",
      "8     9000        3000\n",
      "9    16500        5500\n"
     ]
    }
   ],
   "source": [
    "print(df.head(10))\n",
    "\n",
    "#verileri burada görmek için bu kodu yazdım. "
   ]
  },
  {
   "cell_type": "code",
   "execution_count": null,
   "id": "2163c886",
   "metadata": {},
   "outputs": [],
   "source": []
  },
  {
   "cell_type": "code",
   "execution_count": 100,
   "id": "2d6b27eb",
   "metadata": {},
   "outputs": [
    {
     "data": {
      "text/html": [
       "<style>#sk-container-id-10 {color: black;}#sk-container-id-10 pre{padding: 0;}#sk-container-id-10 div.sk-toggleable {background-color: white;}#sk-container-id-10 label.sk-toggleable__label {cursor: pointer;display: block;width: 100%;margin-bottom: 0;padding: 0.3em;box-sizing: border-box;text-align: center;}#sk-container-id-10 label.sk-toggleable__label-arrow:before {content: \"▸\";float: left;margin-right: 0.25em;color: #696969;}#sk-container-id-10 label.sk-toggleable__label-arrow:hover:before {color: black;}#sk-container-id-10 div.sk-estimator:hover label.sk-toggleable__label-arrow:before {color: black;}#sk-container-id-10 div.sk-toggleable__content {max-height: 0;max-width: 0;overflow: hidden;text-align: left;background-color: #f0f8ff;}#sk-container-id-10 div.sk-toggleable__content pre {margin: 0.2em;color: black;border-radius: 0.25em;background-color: #f0f8ff;}#sk-container-id-10 input.sk-toggleable__control:checked~div.sk-toggleable__content {max-height: 200px;max-width: 100%;overflow: auto;}#sk-container-id-10 input.sk-toggleable__control:checked~label.sk-toggleable__label-arrow:before {content: \"▾\";}#sk-container-id-10 div.sk-estimator input.sk-toggleable__control:checked~label.sk-toggleable__label {background-color: #d4ebff;}#sk-container-id-10 div.sk-label input.sk-toggleable__control:checked~label.sk-toggleable__label {background-color: #d4ebff;}#sk-container-id-10 input.sk-hidden--visually {border: 0;clip: rect(1px 1px 1px 1px);clip: rect(1px, 1px, 1px, 1px);height: 1px;margin: -1px;overflow: hidden;padding: 0;position: absolute;width: 1px;}#sk-container-id-10 div.sk-estimator {font-family: monospace;background-color: #f0f8ff;border: 1px dotted black;border-radius: 0.25em;box-sizing: border-box;margin-bottom: 0.5em;}#sk-container-id-10 div.sk-estimator:hover {background-color: #d4ebff;}#sk-container-id-10 div.sk-parallel-item::after {content: \"\";width: 100%;border-bottom: 1px solid gray;flex-grow: 1;}#sk-container-id-10 div.sk-label:hover label.sk-toggleable__label {background-color: #d4ebff;}#sk-container-id-10 div.sk-serial::before {content: \"\";position: absolute;border-left: 1px solid gray;box-sizing: border-box;top: 0;bottom: 0;left: 50%;z-index: 0;}#sk-container-id-10 div.sk-serial {display: flex;flex-direction: column;align-items: center;background-color: white;padding-right: 0.2em;padding-left: 0.2em;position: relative;}#sk-container-id-10 div.sk-item {position: relative;z-index: 1;}#sk-container-id-10 div.sk-parallel {display: flex;align-items: stretch;justify-content: center;background-color: white;position: relative;}#sk-container-id-10 div.sk-item::before, #sk-container-id-10 div.sk-parallel-item::before {content: \"\";position: absolute;border-left: 1px solid gray;box-sizing: border-box;top: 0;bottom: 0;left: 50%;z-index: -1;}#sk-container-id-10 div.sk-parallel-item {display: flex;flex-direction: column;z-index: 1;position: relative;background-color: white;}#sk-container-id-10 div.sk-parallel-item:first-child::after {align-self: flex-end;width: 50%;}#sk-container-id-10 div.sk-parallel-item:last-child::after {align-self: flex-start;width: 50%;}#sk-container-id-10 div.sk-parallel-item:only-child::after {width: 0;}#sk-container-id-10 div.sk-dashed-wrapped {border: 1px dashed gray;margin: 0 0.4em 0.5em 0.4em;box-sizing: border-box;padding-bottom: 0.4em;background-color: white;}#sk-container-id-10 div.sk-label label {font-family: monospace;font-weight: bold;display: inline-block;line-height: 1.2em;}#sk-container-id-10 div.sk-label-container {text-align: center;}#sk-container-id-10 div.sk-container {/* jupyter's `normalize.less` sets `[hidden] { display: none; }` but bootstrap.min.css set `[hidden] { display: none !important; }` so we also need the `!important` here to be able to override the default hidden behavior on the sphinx rendered scikit-learn.org. See: https://github.com/scikit-learn/scikit-learn/issues/21755 */display: inline-block !important;position: relative;}#sk-container-id-10 div.sk-text-repr-fallback {display: none;}</style><div id=\"sk-container-id-10\" class=\"sk-top-container\"><div class=\"sk-text-repr-fallback\"><pre>LinearRegression()</pre><b>In a Jupyter environment, please rerun this cell to show the HTML representation or trust the notebook. <br />On GitHub, the HTML representation is unable to render, please try loading this page with nbviewer.org.</b></div><div class=\"sk-container\" hidden><div class=\"sk-item\"><div class=\"sk-estimator sk-toggleable\"><input class=\"sk-toggleable__control sk-hidden--visually\" id=\"sk-estimator-id-10\" type=\"checkbox\" checked><label for=\"sk-estimator-id-10\" class=\"sk-toggleable__label sk-toggleable__label-arrow\">LinearRegression</label><div class=\"sk-toggleable__content\"><pre>LinearRegression()</pre></div></div></div></div></div>"
      ],
      "text/plain": [
       "LinearRegression()"
      ]
     },
     "execution_count": 100,
     "metadata": {},
     "output_type": "execute_result"
    }
   ],
   "source": [
    "# Eğitim ve test veri setleri üzerinde tahmin yapma\n",
    "X = df[[\"revenue\"]]\n",
    "y = df[[\"investment\"]]\n",
    "\n",
    "\n",
    "X_train, X_test, y_train, y_test = train_test_split(X, y, test_size=0.2, random_state=42)\n",
    "\n",
    "model = LinearRegression()\n",
    "model.fit(X_train, y_train)\n",
    "\n",
    "#verileri modele uygun eğittim"
   ]
  },
  {
   "cell_type": "code",
   "execution_count": 93,
   "id": "4530a0d9",
   "metadata": {},
   "outputs": [
    {
     "name": "stdout",
     "output_type": "stream",
     "text": [
      "Eğitim Seti Doğruluk Oranı: 1.0\n",
      "Test Seti Doğruluk Oranı: 1.0\n",
      "Eğitim Seti R² Değeri: -2.5102618542108988\n",
      "Eğitim Seti R² Değeri: -9.151515151515152\n"
     ]
    }
   ],
   "source": [
    "y_train_pred = model.predict(X_train)\n",
    "y_test_pred= model.predict(X_test)\n",
    "\n",
    "accuracy_train = model.score(X_train, y_train)\n",
    "accuracy_test = model.score(X_test, y_test)\n",
    "r2_train = r2_score(X_train, y_train)\n",
    "r2_test = r2_score(X_test, y_test)\n",
    "\n",
    "print('Eğitim Seti Doğruluk Oranı:', accuracy_train)\n",
    "print('Test Seti Doğruluk Oranı:', accuracy_test)\n",
    "print('Eğitim Seti R² Değeri:', r2_train)\n",
    "print('Eğitim Seti R² Değeri:', r2_test)\n",
    "\n",
    "\n",
    "#modeli test , train ettim. r2 için kodları yazdım. \n"
   ]
  },
  {
   "cell_type": "code",
   "execution_count": 92,
   "id": "2ffd5e52",
   "metadata": {},
   "outputs": [
    {
     "name": "stdout",
     "output_type": "stream",
     "text": [
      "investment_prediction: [[1333.33333333]]\n"
     ]
    },
    {
     "name": "stderr",
     "output_type": "stream",
     "text": [
      "C:\\Users\\aktas\\anaconda3\\Lib\\site-packages\\sklearn\\base.py:464: UserWarning: X does not have valid feature names, but LinearRegression was fitted with feature names\n",
      "  warnings.warn(\n"
     ]
    }
   ],
   "source": [
    "investment_prediction = model.predict([[4000]])\n",
    "print('investment_prediction:', investment_prediction)\n",
    "\n",
    "#modelin 4000 gelirine göre uygun olup olmadığını bu kodda göreceğim. "
   ]
  },
  {
   "cell_type": "code",
   "execution_count": 88,
   "id": "c2a95a56",
   "metadata": {},
   "outputs": [
    {
     "data": {
      "image/png": "[encoded data removed]",
      "text/plain": [
       "<Figure size 640x480 with 1 Axes>"
      ]
     },
     "metadata": {},
     "output_type": "display_data"
    }
   ],
   "source": [
    "plt.scatter(df['revenue'], df['investment'], label='Gerçek Yatış')\n",
    "plt.plot(df['revenue'], model.predict(X), color='red', label='Tahmini Satış')\n",
    "plt.xlabel('Product_Prise')\n",
    "plt.ylabel('Sales_Quantity')\n",
    "plt.title('Lineer Regresyon Modeli ile Tahmini Satış')\n",
    "plt.legend()\n",
    "plt.show()\n",
    "\n",
    "#görselleştirme için kodları ekledim ve sonucu görselleştirdim. \n"
   ]
  },
  {
   "cell_type": "code",
   "execution_count": null,
   "id": "52e91999",
   "metadata": {},
   "outputs": [],
   "source": []
  }
 ],
 "metadata": {
  "kernelspec": {
   "display_name": "Python 3 (ipykernel)",
   "language": "python",
   "name": "python3"
  },
  "language_info": {
   "codemirror_mode": {
    "name": "ipython",
    "version": 3
   },
   "file_extension": ".py",
   "mimetype": "text/x-python",
   "name": "python",
   "nbconvert_exporter": "python",
   "pygments_lexer": "ipython3",
   "version": "3.11.4"
  }
 },
 "nbformat": 4,
 "nbformat_minor": 5
}
